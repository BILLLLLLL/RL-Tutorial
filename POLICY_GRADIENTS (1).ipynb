{
  "cells": [
    {
      "cell_type": "markdown",
      "metadata": {
        "id": "1COeqeNc5uiK"
      },
      "source": [
        "# Section 3: Implementing policy gradients for a simple simulated environment"
      ]
    },
    {
      "cell_type": "markdown",
      "metadata": {
        "id": "gqLxdhSJS6Jq"
      },
      "source": [
        "In the previous iterations of class, you have been introduced to gradient descent, where a learning agent takes a loss function and uses it to minimize it. In the case of reinforcement learning, there isn't a loss function, which means that you have to use policy gradients as a mean to approximate such gradients in order to optimize the learning agent."
      ]
    },
    {
      "cell_type": "markdown",
      "metadata": {
        "id": "T2jPBtqmlyvC"
      },
      "source": [
        "In this exercise, you will be using policy gradients to approximate a polynomial function. Instead of using any derivatives to measure the change of loss, $L_\\theta (x, y)$ with respect of parameters $\\theta$, we would instead use reward signals $R(\\tau)$ to approximate gradient descent, where $\\tau$ denotes a sampled trajectory of a series of actions (collections of samples within a run).\n",
        "\n",
        "We will assume you have a somewhat solid basis from deep learning, and we will go from here.\n",
        "\n",
        "Special thank you to CS285 for helping to organize the content in this section! The mathematical derivation for policy gradient can be credited [here](https://rail.eecs.berkeley.edu/deeprlcourse/static/slides/lec-5.pdf)"
      ]
    },
    {
      "cell_type": "markdown",
      "source": [
        "## Install Dependencies"
      ],
      "metadata": {
        "id": "FRN2M1LGs-RA"
      }
    },
    {
      "cell_type": "code",
      "execution_count": 10,
      "metadata": {
        "colab": {
          "base_uri": "https://localhost:8080/"
        },
        "id": "nhuPJ91dlpRa",
        "outputId": "eb93679f-418c-4eb0-a028-5a3c559accd8"
      },
      "outputs": [
        {
          "output_type": "stream",
          "name": "stderr",
          "text": [
            "/usr/local/lib/python3.10/dist-packages/ipykernel/ipkernel.py:283: DeprecationWarning: `should_run_async` will not call `transform_cell` automatically in the future. Please pass the result to `transformed_cell` argument and any exception that happen during thetransform in `preprocessing_exc_tuple` in IPython 7.17 and above.\n",
            "  and should_run_async(code)\n"
          ]
        },
        {
          "output_type": "stream",
          "name": "stdout",
          "text": [
            "Requirement already satisfied: pyvirtualdisplay in /usr/local/lib/python3.10/dist-packages (3.0)\n"
          ]
        }
      ],
      "source": [
        "import numpy as np\n",
        "import torch\n",
        "import torch.nn as nn\n",
        "import scipy\n",
        "import matplotlib.pyplot as plt\n",
        "import torch.nn.functional\n",
        "import gym\n",
        "from gym.wrappers.record_video import RecordVideo\n",
        "from IPython import display\n",
        "!pip install pyvirtualdisplay\n",
        "from pyvirtualdisplay import Display\n",
        "import torch.distributions as dist\n",
        "# !pip install gym"
      ]
    },
    {
      "cell_type": "code",
      "source": [
        "!apt-get install -y libglu1-mesa-dev libgl1-mesa-dev libosmesa6-dev xvfb ffmpeg curl patchelf libglfw3 libglfw3-dev cmake zlib1g zlib1g-dev swig\n"
      ],
      "metadata": {
        "colab": {
          "base_uri": "https://localhost:8080/"
        },
        "id": "nPSfw-EoGeEP",
        "outputId": "a95e6117-a772-4e1c-c90f-de42bc189b68"
      },
      "execution_count": 13,
      "outputs": [
        {
          "output_type": "stream",
          "name": "stdout",
          "text": [
            "Reading package lists... Done\n",
            "Building dependency tree... Done\n",
            "Reading state information... Done\n",
            "cmake is already the newest version (3.22.1-1ubuntu1.22.04.1).\n",
            "curl is already the newest version (7.81.0-1ubuntu1.13).\n",
            "zlib1g is already the newest version (1:1.2.11.dfsg-2ubuntu9.2).\n",
            "zlib1g-dev is already the newest version (1:1.2.11.dfsg-2ubuntu9.2).\n",
            "zlib1g-dev set to manually installed.\n",
            "ffmpeg is already the newest version (7:4.4.2-0ubuntu0.22.04.1).\n",
            "The following additional packages will be installed:\n",
            "  libegl-dev libegl1-mesa-dev libffi-dev libfontenc1 libgl-dev libgles-dev\n",
            "  libgles1 libglu1-mesa libglvnd-core-dev libglvnd-dev libglx-dev\n",
            "  libopengl-dev libosmesa6 libvulkan-dev libvulkan1 libwayland-bin\n",
            "  libwayland-dev libxcb-randr0 libxfont2 libxkbfile1 libxrandr-dev\n",
            "  mesa-vulkan-drivers swig4.0 x11-xkb-utils xfonts-base xfonts-encodings\n",
            "  xfonts-utils xserver-common\n",
            "Suggested packages:\n",
            "  libglfw3-doc libwayland-doc swig-doc swig-examples swig4.0-examples\n",
            "  swig4.0-doc\n",
            "The following NEW packages will be installed:\n",
            "  libegl-dev libegl1-mesa-dev libffi-dev libfontenc1 libgl-dev libgl1-mesa-dev\n",
            "  libgles-dev libgles1 libglfw3 libglfw3-dev libglu1-mesa libglu1-mesa-dev\n",
            "  libglvnd-core-dev libglvnd-dev libglx-dev libopengl-dev libosmesa6\n",
            "  libosmesa6-dev libvulkan-dev libvulkan1 libwayland-bin libwayland-dev\n",
            "  libxcb-randr0 libxfont2 libxkbfile1 libxrandr-dev mesa-vulkan-drivers\n",
            "  patchelf swig swig4.0 x11-xkb-utils xfonts-base xfonts-encodings\n",
            "  xfonts-utils xserver-common xvfb\n",
            "0 upgraded, 36 newly installed, 0 to remove and 9 not upgraded.\n",
            "Need to get 19.2 MB of archives.\n",
            "After this operation, 76.5 MB of additional disk space will be used.\n",
            "Get:1 http://archive.ubuntu.com/ubuntu jammy/main amd64 libglx-dev amd64 1.4.0-1 [14.1 kB]\n",
            "Get:2 http://archive.ubuntu.com/ubuntu jammy/main amd64 libgl-dev amd64 1.4.0-1 [101 kB]\n",
            "Get:3 http://archive.ubuntu.com/ubuntu jammy/main amd64 libegl-dev amd64 1.4.0-1 [18.0 kB]\n",
            "Get:4 http://archive.ubuntu.com/ubuntu jammy/main amd64 libglvnd-core-dev amd64 1.4.0-1 [12.7 kB]\n",
            "Get:5 http://archive.ubuntu.com/ubuntu jammy/main amd64 libgles1 amd64 1.4.0-1 [11.5 kB]\n",
            "Get:6 http://archive.ubuntu.com/ubuntu jammy/main amd64 libgles-dev amd64 1.4.0-1 [49.4 kB]\n",
            "Get:7 http://archive.ubuntu.com/ubuntu jammy/main amd64 libopengl-dev amd64 1.4.0-1 [3,400 B]\n",
            "Get:8 http://archive.ubuntu.com/ubuntu jammy/main amd64 libglvnd-dev amd64 1.4.0-1 [3,162 B]\n",
            "Get:9 http://archive.ubuntu.com/ubuntu jammy-updates/main amd64 libegl1-mesa-dev amd64 22.2.5-0ubuntu0.1~22.04.3 [8,178 B]\n",
            "Get:10 http://archive.ubuntu.com/ubuntu jammy/main amd64 libfontenc1 amd64 1:1.1.4-1build3 [14.7 kB]\n",
            "Get:11 http://archive.ubuntu.com/ubuntu jammy/universe amd64 libglfw3 amd64 3.3.6-1 [83.2 kB]\n",
            "Get:12 http://archive.ubuntu.com/ubuntu jammy-updates/main amd64 libgl1-mesa-dev amd64 22.2.5-0ubuntu0.1~22.04.3 [6,756 B]\n",
            "Get:13 http://archive.ubuntu.com/ubuntu jammy/universe amd64 libglfw3-dev amd64 3.3.6-1 [41.1 kB]\n",
            "Get:14 http://archive.ubuntu.com/ubuntu jammy/main amd64 libglu1-mesa amd64 9.0.2-1 [145 kB]\n",
            "Get:15 http://archive.ubuntu.com/ubuntu jammy/main amd64 libglu1-mesa-dev amd64 9.0.2-1 [231 kB]\n",
            "Get:16 http://archive.ubuntu.com/ubuntu jammy/main amd64 libvulkan1 amd64 1.3.204.1-2 [128 kB]\n",
            "Get:17 http://archive.ubuntu.com/ubuntu jammy/main amd64 libvulkan-dev amd64 1.3.204.1-2 [892 kB]\n",
            "Get:18 http://archive.ubuntu.com/ubuntu jammy/main amd64 libxcb-randr0 amd64 1.14-3ubuntu3 [18.3 kB]\n",
            "Get:19 http://archive.ubuntu.com/ubuntu jammy/main amd64 libxfont2 amd64 1:2.0.5-1build1 [94.5 kB]\n",
            "Get:20 http://archive.ubuntu.com/ubuntu jammy/main amd64 libxkbfile1 amd64 1:1.1.0-1build3 [71.8 kB]\n",
            "Get:21 http://archive.ubuntu.com/ubuntu jammy/main amd64 libxrandr-dev amd64 2:1.5.2-1build1 [26.7 kB]\n",
            "Get:22 http://archive.ubuntu.com/ubuntu jammy-updates/main amd64 mesa-vulkan-drivers amd64 22.2.5-0ubuntu0.1~22.04.3 [5,155 kB]\n",
            "Get:23 http://archive.ubuntu.com/ubuntu jammy/universe amd64 patchelf amd64 0.14.3-1 [72.1 kB]\n",
            "Get:24 http://archive.ubuntu.com/ubuntu jammy/universe amd64 swig4.0 amd64 4.0.2-1ubuntu1 [1,110 kB]\n",
            "Get:25 http://archive.ubuntu.com/ubuntu jammy/universe amd64 swig all 4.0.2-1ubuntu1 [5,632 B]\n",
            "Get:26 http://archive.ubuntu.com/ubuntu jammy/main amd64 x11-xkb-utils amd64 7.7+5build4 [172 kB]\n",
            "Get:27 http://archive.ubuntu.com/ubuntu jammy/main amd64 xfonts-encodings all 1:1.0.5-0ubuntu2 [578 kB]\n",
            "Get:28 http://archive.ubuntu.com/ubuntu jammy/main amd64 xfonts-utils amd64 1:7.7+6build2 [94.6 kB]\n",
            "Get:29 http://archive.ubuntu.com/ubuntu jammy/main amd64 xfonts-base all 1:1.0.5 [5,896 kB]\n",
            "Get:30 http://archive.ubuntu.com/ubuntu jammy-updates/main amd64 xserver-common all 2:21.1.4-2ubuntu1.7~22.04.1 [28.0 kB]\n",
            "Get:31 http://archive.ubuntu.com/ubuntu jammy-updates/universe amd64 xvfb amd64 2:21.1.4-2ubuntu1.7~22.04.1 [863 kB]\n",
            "Get:32 http://archive.ubuntu.com/ubuntu jammy/main amd64 libffi-dev amd64 3.4.2-4 [63.7 kB]\n",
            "Get:33 http://archive.ubuntu.com/ubuntu jammy-updates/main amd64 libosmesa6 amd64 22.2.5-0ubuntu0.1~22.04.3 [3,098 kB]\n",
            "Get:34 http://archive.ubuntu.com/ubuntu jammy-updates/main amd64 libosmesa6-dev amd64 22.2.5-0ubuntu0.1~22.04.3 [8,874 B]\n",
            "Get:35 http://archive.ubuntu.com/ubuntu jammy-updates/main amd64 libwayland-bin amd64 1.20.0-1ubuntu0.1 [20.4 kB]\n",
            "Get:36 http://archive.ubuntu.com/ubuntu jammy-updates/main amd64 libwayland-dev amd64 1.20.0-1ubuntu0.1 [69.5 kB]\n",
            "Fetched 19.2 MB in 1s (14.2 MB/s)\n",
            "Extracting templates from packages: 100%\n",
            "Selecting previously unselected package libglx-dev:amd64.\n",
            "(Reading database ... 120493 files and directories currently installed.)\n",
            "Preparing to unpack .../00-libglx-dev_1.4.0-1_amd64.deb ...\n",
            "Unpacking libglx-dev:amd64 (1.4.0-1) ...\n",
            "Selecting previously unselected package libgl-dev:amd64.\n",
            "Preparing to unpack .../01-libgl-dev_1.4.0-1_amd64.deb ...\n",
            "Unpacking libgl-dev:amd64 (1.4.0-1) ...\n",
            "Selecting previously unselected package libegl-dev:amd64.\n",
            "Preparing to unpack .../02-libegl-dev_1.4.0-1_amd64.deb ...\n",
            "Unpacking libegl-dev:amd64 (1.4.0-1) ...\n",
            "Selecting previously unselected package libglvnd-core-dev:amd64.\n",
            "Preparing to unpack .../03-libglvnd-core-dev_1.4.0-1_amd64.deb ...\n",
            "Unpacking libglvnd-core-dev:amd64 (1.4.0-1) ...\n",
            "Selecting previously unselected package libgles1:amd64.\n",
            "Preparing to unpack .../04-libgles1_1.4.0-1_amd64.deb ...\n",
            "Unpacking libgles1:amd64 (1.4.0-1) ...\n",
            "Selecting previously unselected package libgles-dev:amd64.\n",
            "Preparing to unpack .../05-libgles-dev_1.4.0-1_amd64.deb ...\n",
            "Unpacking libgles-dev:amd64 (1.4.0-1) ...\n",
            "Selecting previously unselected package libopengl-dev:amd64.\n",
            "Preparing to unpack .../06-libopengl-dev_1.4.0-1_amd64.deb ...\n",
            "Unpacking libopengl-dev:amd64 (1.4.0-1) ...\n",
            "Selecting previously unselected package libglvnd-dev:amd64.\n",
            "Preparing to unpack .../07-libglvnd-dev_1.4.0-1_amd64.deb ...\n",
            "Unpacking libglvnd-dev:amd64 (1.4.0-1) ...\n",
            "Selecting previously unselected package libegl1-mesa-dev:amd64.\n",
            "Preparing to unpack .../08-libegl1-mesa-dev_22.2.5-0ubuntu0.1~22.04.3_amd64.deb ...\n",
            "Unpacking libegl1-mesa-dev:amd64 (22.2.5-0ubuntu0.1~22.04.3) ...\n",
            "Selecting previously unselected package libfontenc1:amd64.\n",
            "Preparing to unpack .../09-libfontenc1_1%3a1.1.4-1build3_amd64.deb ...\n",
            "Unpacking libfontenc1:amd64 (1:1.1.4-1build3) ...\n",
            "Selecting previously unselected package libglfw3:amd64.\n",
            "Preparing to unpack .../10-libglfw3_3.3.6-1_amd64.deb ...\n",
            "Unpacking libglfw3:amd64 (3.3.6-1) ...\n",
            "Selecting previously unselected package libgl1-mesa-dev:amd64.\n",
            "Preparing to unpack .../11-libgl1-mesa-dev_22.2.5-0ubuntu0.1~22.04.3_amd64.deb ...\n",
            "Unpacking libgl1-mesa-dev:amd64 (22.2.5-0ubuntu0.1~22.04.3) ...\n",
            "Selecting previously unselected package libglfw3-dev:amd64.\n",
            "Preparing to unpack .../12-libglfw3-dev_3.3.6-1_amd64.deb ...\n",
            "Unpacking libglfw3-dev:amd64 (3.3.6-1) ...\n",
            "Selecting previously unselected package libglu1-mesa:amd64.\n",
            "Preparing to unpack .../13-libglu1-mesa_9.0.2-1_amd64.deb ...\n",
            "Unpacking libglu1-mesa:amd64 (9.0.2-1) ...\n",
            "Selecting previously unselected package libglu1-mesa-dev:amd64.\n",
            "Preparing to unpack .../14-libglu1-mesa-dev_9.0.2-1_amd64.deb ...\n",
            "Unpacking libglu1-mesa-dev:amd64 (9.0.2-1) ...\n",
            "Selecting previously unselected package libvulkan1:amd64.\n",
            "Preparing to unpack .../15-libvulkan1_1.3.204.1-2_amd64.deb ...\n",
            "Unpacking libvulkan1:amd64 (1.3.204.1-2) ...\n",
            "Selecting previously unselected package libvulkan-dev:amd64.\n",
            "Preparing to unpack .../16-libvulkan-dev_1.3.204.1-2_amd64.deb ...\n",
            "Unpacking libvulkan-dev:amd64 (1.3.204.1-2) ...\n",
            "Selecting previously unselected package libxcb-randr0:amd64.\n",
            "Preparing to unpack .../17-libxcb-randr0_1.14-3ubuntu3_amd64.deb ...\n",
            "Unpacking libxcb-randr0:amd64 (1.14-3ubuntu3) ...\n",
            "Selecting previously unselected package libxfont2:amd64.\n",
            "Preparing to unpack .../18-libxfont2_1%3a2.0.5-1build1_amd64.deb ...\n",
            "Unpacking libxfont2:amd64 (1:2.0.5-1build1) ...\n",
            "Selecting previously unselected package libxkbfile1:amd64.\n",
            "Preparing to unpack .../19-libxkbfile1_1%3a1.1.0-1build3_amd64.deb ...\n",
            "Unpacking libxkbfile1:amd64 (1:1.1.0-1build3) ...\n",
            "Selecting previously unselected package libxrandr-dev:amd64.\n",
            "Preparing to unpack .../20-libxrandr-dev_2%3a1.5.2-1build1_amd64.deb ...\n",
            "Unpacking libxrandr-dev:amd64 (2:1.5.2-1build1) ...\n",
            "Selecting previously unselected package mesa-vulkan-drivers:amd64.\n",
            "Preparing to unpack .../21-mesa-vulkan-drivers_22.2.5-0ubuntu0.1~22.04.3_amd64.deb ...\n",
            "Unpacking mesa-vulkan-drivers:amd64 (22.2.5-0ubuntu0.1~22.04.3) ...\n",
            "Selecting previously unselected package patchelf.\n",
            "Preparing to unpack .../22-patchelf_0.14.3-1_amd64.deb ...\n",
            "Unpacking patchelf (0.14.3-1) ...\n",
            "Selecting previously unselected package swig4.0.\n",
            "Preparing to unpack .../23-swig4.0_4.0.2-1ubuntu1_amd64.deb ...\n",
            "Unpacking swig4.0 (4.0.2-1ubuntu1) ...\n",
            "Selecting previously unselected package swig.\n",
            "Preparing to unpack .../24-swig_4.0.2-1ubuntu1_all.deb ...\n",
            "Unpacking swig (4.0.2-1ubuntu1) ...\n",
            "Selecting previously unselected package x11-xkb-utils.\n",
            "Preparing to unpack .../25-x11-xkb-utils_7.7+5build4_amd64.deb ...\n",
            "Unpacking x11-xkb-utils (7.7+5build4) ...\n",
            "Selecting previously unselected package xfonts-encodings.\n",
            "Preparing to unpack .../26-xfonts-encodings_1%3a1.0.5-0ubuntu2_all.deb ...\n",
            "Unpacking xfonts-encodings (1:1.0.5-0ubuntu2) ...\n",
            "Selecting previously unselected package xfonts-utils.\n",
            "Preparing to unpack .../27-xfonts-utils_1%3a7.7+6build2_amd64.deb ...\n",
            "Unpacking xfonts-utils (1:7.7+6build2) ...\n",
            "Selecting previously unselected package xfonts-base.\n",
            "Preparing to unpack .../28-xfonts-base_1%3a1.0.5_all.deb ...\n",
            "Unpacking xfonts-base (1:1.0.5) ...\n",
            "Selecting previously unselected package xserver-common.\n",
            "Preparing to unpack .../29-xserver-common_2%3a21.1.4-2ubuntu1.7~22.04.1_all.deb ...\n",
            "Unpacking xserver-common (2:21.1.4-2ubuntu1.7~22.04.1) ...\n",
            "Selecting previously unselected package xvfb.\n",
            "Preparing to unpack .../30-xvfb_2%3a21.1.4-2ubuntu1.7~22.04.1_amd64.deb ...\n",
            "Unpacking xvfb (2:21.1.4-2ubuntu1.7~22.04.1) ...\n",
            "Selecting previously unselected package libffi-dev:amd64.\n",
            "Preparing to unpack .../31-libffi-dev_3.4.2-4_amd64.deb ...\n",
            "Unpacking libffi-dev:amd64 (3.4.2-4) ...\n",
            "Selecting previously unselected package libosmesa6:amd64.\n",
            "Preparing to unpack .../32-libosmesa6_22.2.5-0ubuntu0.1~22.04.3_amd64.deb ...\n",
            "Unpacking libosmesa6:amd64 (22.2.5-0ubuntu0.1~22.04.3) ...\n",
            "Selecting previously unselected package libosmesa6-dev:amd64.\n",
            "Preparing to unpack .../33-libosmesa6-dev_22.2.5-0ubuntu0.1~22.04.3_amd64.deb ...\n",
            "Unpacking libosmesa6-dev:amd64 (22.2.5-0ubuntu0.1~22.04.3) ...\n",
            "Selecting previously unselected package libwayland-bin.\n",
            "Preparing to unpack .../34-libwayland-bin_1.20.0-1ubuntu0.1_amd64.deb ...\n",
            "Unpacking libwayland-bin (1.20.0-1ubuntu0.1) ...\n",
            "Selecting previously unselected package libwayland-dev:amd64.\n",
            "Preparing to unpack .../35-libwayland-dev_1.20.0-1ubuntu0.1_amd64.deb ...\n",
            "Unpacking libwayland-dev:amd64 (1.20.0-1ubuntu0.1) ...\n",
            "Setting up libglfw3:amd64 (3.3.6-1) ...\n",
            "Setting up libglvnd-core-dev:amd64 (1.4.0-1) ...\n",
            "Setting up libffi-dev:amd64 (3.4.2-4) ...\n",
            "Setting up libwayland-bin (1.20.0-1ubuntu0.1) ...\n",
            "Setting up libfontenc1:amd64 (1:1.1.4-1build3) ...\n",
            "Setting up libxrandr-dev:amd64 (2:1.5.2-1build1) ...\n",
            "Setting up libgles1:amd64 (1.4.0-1) ...\n",
            "Setting up xfonts-encodings (1:1.0.5-0ubuntu2) ...\n",
            "Setting up libvulkan1:amd64 (1.3.204.1-2) ...\n",
            "Setting up libxcb-randr0:amd64 (1.14-3ubuntu3) ...\n",
            "Setting up libglx-dev:amd64 (1.4.0-1) ...\n",
            "Setting up libglu1-mesa:amd64 (9.0.2-1) ...\n",
            "Setting up libxkbfile1:amd64 (1:1.1.0-1build3) ...\n",
            "Setting up libopengl-dev:amd64 (1.4.0-1) ...\n",
            "Setting up patchelf (0.14.3-1) ...\n",
            "Setting up swig4.0 (4.0.2-1ubuntu1) ...\n",
            "Setting up libxfont2:amd64 (1:2.0.5-1build1) ...\n",
            "Setting up libgl-dev:amd64 (1.4.0-1) ...\n",
            "Setting up libosmesa6:amd64 (22.2.5-0ubuntu0.1~22.04.3) ...\n",
            "Setting up mesa-vulkan-drivers:amd64 (22.2.5-0ubuntu0.1~22.04.3) ...\n",
            "Setting up libvulkan-dev:amd64 (1.3.204.1-2) ...\n",
            "Setting up swig (4.0.2-1ubuntu1) ...\n",
            "Setting up libglfw3-dev:amd64 (3.3.6-1) ...\n",
            "Setting up libegl-dev:amd64 (1.4.0-1) ...\n",
            "Setting up x11-xkb-utils (7.7+5build4) ...\n",
            "Setting up xfonts-utils (1:7.7+6build2) ...\n",
            "Setting up libwayland-dev:amd64 (1.20.0-1ubuntu0.1) ...\n",
            "Setting up xfonts-base (1:1.0.5) ...\n",
            "Setting up libglu1-mesa-dev:amd64 (9.0.2-1) ...\n",
            "Setting up libosmesa6-dev:amd64 (22.2.5-0ubuntu0.1~22.04.3) ...\n",
            "Setting up xserver-common (2:21.1.4-2ubuntu1.7~22.04.1) ...\n",
            "Setting up libgles-dev:amd64 (1.4.0-1) ...\n",
            "Setting up xvfb (2:21.1.4-2ubuntu1.7~22.04.1) ...\n",
            "Setting up libglvnd-dev:amd64 (1.4.0-1) ...\n",
            "Setting up libgl1-mesa-dev:amd64 (22.2.5-0ubuntu0.1~22.04.3) ...\n",
            "Setting up libegl1-mesa-dev:amd64 (22.2.5-0ubuntu0.1~22.04.3) ...\n",
            "Processing triggers for libc-bin (2.35-0ubuntu3.1) ...\n",
            "Processing triggers for man-db (2.10.2-1) ...\n",
            "Processing triggers for fontconfig (2.13.1-4.2ubuntu5) ...\n",
            "Collecting Box2D\n",
            "  Using cached Box2D-2.3.2.tar.gz (427 kB)\n",
            "  Preparing metadata (setup.py) ... \u001b[?25l\u001b[?25hdone\n",
            "Building wheels for collected packages: Box2D\n",
            "  Building wheel for Box2D (setup.py) ... \u001b[?25l\u001b[?25hdone\n",
            "  Created wheel for Box2D: filename=Box2D-2.3.2-cp310-cp310-linux_x86_64.whl size=2367274 sha256=c5d74773759dcfc8dd9593c05c724ca5d7d4b9e2046174af076f2506558bef20\n",
            "  Stored in directory: /root/.cache/pip/wheels/eb/cb/be/e663f3ce9aba6580611c0febaf7cd3cf7603f87047de2a52f9\n",
            "Successfully built Box2D\n",
            "Installing collected packages: Box2D\n",
            "Successfully installed Box2D-2.3.2\n"
          ]
        }
      ]
    },
    {
      "cell_type": "code",
      "source": [
        "!pip install gym[box2d]"
      ],
      "metadata": {
        "colab": {
          "base_uri": "https://localhost:8080/",
          "height": 539
        },
        "id": "p-YfJqg5Hw4e",
        "outputId": "c599217d-91d5-4905-d813-79f543b70c9b"
      },
      "execution_count": 15,
      "outputs": [
        {
          "output_type": "stream",
          "name": "stderr",
          "text": [
            "/usr/local/lib/python3.10/dist-packages/ipykernel/ipkernel.py:283: DeprecationWarning: `should_run_async` will not call `transform_cell` automatically in the future. Please pass the result to `transformed_cell` argument and any exception that happen during thetransform in `preprocessing_exc_tuple` in IPython 7.17 and above.\n",
            "  and should_run_async(code)\n"
          ]
        },
        {
          "output_type": "stream",
          "name": "stdout",
          "text": [
            "Requirement already satisfied: gym[box2d] in /usr/local/lib/python3.10/dist-packages (0.25.2)\n",
            "Requirement already satisfied: numpy>=1.18.0 in /usr/local/lib/python3.10/dist-packages (from gym[box2d]) (1.22.4)\n",
            "Requirement already satisfied: cloudpickle>=1.2.0 in /usr/local/lib/python3.10/dist-packages (from gym[box2d]) (2.2.1)\n",
            "Requirement already satisfied: gym-notices>=0.0.4 in /usr/local/lib/python3.10/dist-packages (from gym[box2d]) (0.0.8)\n",
            "Collecting box2d-py==2.3.5 (from gym[box2d])\n",
            "  Using cached box2d-py-2.3.5.tar.gz (374 kB)\n",
            "  Preparing metadata (setup.py) ... \u001b[?25l\u001b[?25hdone\n",
            "Collecting pygame==2.1.0 (from gym[box2d])\n",
            "  Using cached pygame-2.1.0-cp310-cp310-manylinux_2_17_x86_64.manylinux2014_x86_64.whl (18.3 MB)\n",
            "Collecting swig==4.* (from gym[box2d])\n",
            "  Using cached swig-4.1.1-py2.py3-none-manylinux_2_5_x86_64.manylinux1_x86_64.whl (1.8 MB)\n",
            "Building wheels for collected packages: box2d-py\n",
            "  Building wheel for box2d-py (setup.py) ... \u001b[?25l\u001b[?25hdone\n",
            "  Created wheel for box2d-py: filename=box2d_py-2.3.5-cp310-cp310-linux_x86_64.whl size=2349103 sha256=3f3a8e61a70c626814bf5c06e9e1269501589b3617445d1f76ba0968eda72635\n",
            "  Stored in directory: /root/.cache/pip/wheels/db/8f/6a/eaaadf056fba10a98d986f6dce954e6201ba3126926fc5ad9e\n",
            "Successfully built box2d-py\n",
            "Installing collected packages: swig, box2d-py, pygame\n",
            "  Attempting uninstall: pygame\n",
            "    Found existing installation: pygame 2.5.0\n",
            "    Uninstalling pygame-2.5.0:\n",
            "      Successfully uninstalled pygame-2.5.0\n",
            "Successfully installed box2d-py-2.3.5 pygame-2.1.0 swig-4.1.1\n"
          ]
        },
        {
          "output_type": "display_data",
          "data": {
            "application/vnd.colab-display-data+json": {
              "pip_warning": {
                "packages": [
                  "pygame"
                ]
              }
            }
          },
          "metadata": {}
        }
      ]
    },
    {
      "cell_type": "code",
      "execution_count": 16,
      "metadata": {
        "colab": {
          "base_uri": "https://localhost:8080/"
        },
        "id": "XQ9NEehcdvti",
        "outputId": "b3f2a474-f029-44f8-d3da-6731a4c9f08b"
      },
      "outputs": [
        {
          "output_type": "stream",
          "name": "stdout",
          "text": [
            "Requirement already satisfied: pygame in /usr/local/lib/python3.10/dist-packages (2.1.0)\n"
          ]
        },
        {
          "output_type": "execute_result",
          "data": {
            "text/plain": [
              "<Surface(640x480x32 SW)>"
            ]
          },
          "metadata": {},
          "execution_count": 16
        }
      ],
      "source": [
        "# This is used for video device to properly display pygame\n",
        "!pip install pygame\n",
        "\n",
        "import os\n",
        "os.environ['SDL_VIDEODRIVER']='dummy'\n",
        "import pygame\n",
        "pygame.display.set_mode((640,480))"
      ]
    },
    {
      "cell_type": "code",
      "execution_count": 17,
      "metadata": {
        "colab": {
          "base_uri": "https://localhost:8080/"
        },
        "id": "fXLnVjzK855E",
        "outputId": "1b93e82a-6926-4862-b701-819edb7aa766"
      },
      "outputs": [
        {
          "output_type": "stream",
          "name": "stdout",
          "text": [
            "current device is cuda\n"
          ]
        }
      ],
      "source": [
        "device = torch.device(\"cuda\" if torch.cuda.is_available() else \"cpu\")\n",
        "print(f\"current device is {device}\")"
      ]
    },
    {
      "cell_type": "code",
      "execution_count": 18,
      "metadata": {
        "id": "f1h9sYlmSdEM"
      },
      "outputs": [],
      "source": [
        "env = gym.make(\"LunarLander-v2\", render_mode = 'human', new_step_api=True)"
      ]
    },
    {
      "cell_type": "markdown",
      "source": [
        "## Setting Up the System"
      ],
      "metadata": {
        "id": "9tGcTzeOtG2C"
      }
    },
    {
      "cell_type": "markdown",
      "source": [
        "Before you start working on the code, here are some general traits of the environment that you can visualize:"
      ],
      "metadata": {
        "id": "uUKuCd1gNWUn"
      }
    },
    {
      "cell_type": "code",
      "source": [
        "env.close()\n",
        "print(\"The observation space: {}\".format(env.observation_space))\n",
        "print(\"The action space: {}\".format(env.action_space))"
      ],
      "metadata": {
        "colab": {
          "base_uri": "https://localhost:8080/"
        },
        "id": "jvdqfYfjNHKv",
        "outputId": "f67c53e8-854a-43ef-8720-8a9e3759ab13"
      },
      "execution_count": null,
      "outputs": [
        {
          "output_type": "stream",
          "name": "stdout",
          "text": [
            "The observation space: Box([-1.5       -1.5       -5.        -5.        -3.1415927 -5.\n",
            " -0.        -0.       ], [1.5       1.5       5.        5.        3.1415927 5.        1.\n",
            " 1.       ], (8,), float32)\n",
            "The action space: Discrete(4)\n"
          ]
        }
      ]
    },
    {
      "cell_type": "markdown",
      "source": [
        "The observation space comprises of 8 different states, each being the lower and upper bound of the state variables, and the action space is a discrete variable with 0, 1, 2, and 3, denoting the action that the agent chooses."
      ],
      "metadata": {
        "id": "sStxP2fWOBYm"
      }
    },
    {
      "cell_type": "markdown",
      "metadata": {
        "id": "QAKM-Z33p8qa"
      },
      "source": [
        "The following module defines the model that you'll be implementing policy gradients on. It includes a pre-defined MLP for said decision-making task, and you should fill out #TODOS to make sure the code runs properly."
      ]
    },
    {
      "cell_type": "code",
      "execution_count": null,
      "metadata": {
        "id": "y9P8DyrQpETs"
      },
      "outputs": [],
      "source": [
        "class PG_LR(nn.Module):\n",
        "  def __init__(self):\n",
        "    super().__init__()\n",
        "    self.model = nn.Sequential(\n",
        "        nn.Linear(8, 128),\n",
        "        nn.ReLU(),\n",
        "        nn.Linear(128, 64),\n",
        "        nn.ReLU(),\n",
        "        nn.Linear(64,4)\n",
        "    ).to(device)\n",
        "    self.prob = nn.Softmax()\n",
        "    self.logProb = []\n",
        "\n",
        "  def forward(self, X):\n",
        "    return self.prob(self.model(X))\n",
        "\n",
        "  def reset(self):\n",
        "    self.logProb = [] # a new iteration"
      ]
    },
    {
      "cell_type": "markdown",
      "metadata": {
        "id": "10lAOJwIlTGe"
      },
      "source": [
        "Training and testing has been implemented here, fill in the blanks necessary for the program to work."
      ]
    },
    {
      "cell_type": "code",
      "execution_count": null,
      "metadata": {
        "id": "9OpnGGCc6Lhr"
      },
      "outputs": [],
      "source": [
        "torch.manual_seed(0x282A)\n",
        "np.random.seed(0x282A)\n",
        "if torch.cuda.is_available():\n",
        "  torch.cuda.manual_seed(0x282A)\n",
        "  torch.cuda.manual_seed_all(0x282A)\n",
        "model = PG_LR()\n",
        "iters = 500\n",
        "lr = 0.005\n",
        "gamma = 0.99 # DISCOUNT FACTOR\n",
        "horizon = 100\n",
        "optimizer = torch.optim.Adam(model.parameters(), lr)\n",
        "\n",
        "totRewards = []"
      ]
    },
    {
      "cell_type": "markdown",
      "metadata": {
        "id": "LX6SKg1b25jl"
      },
      "source": [
        "\n",
        "The REINFORCE Algorithm (Policy Gradients)\n",
        "---\n",
        "\n",
        "With technical aspects of running the simulation out of the way, let's introduce the REINFORCE algorithm, also known as policy gradients:\n",
        "\n",
        "We can start by defining $J(\\theta)$ as the expected total reward over trajectories collected by our policy θ: $J(\\theta) = 𝔼_{\\tau \\sim p_\\theta(\\tau)}[∑_t r(s_t, a_t)]$, and our objective is:\n",
        "\n",
        "\n",
        "#### <center> $θ*=argmax_\\theta J(\\theta)$ </center>\n",
        "\n",
        "This value function can then tranform into the empirical average over the N samples we rolled out:\n",
        "\n",
        "#### <center> $J(\\theta) = \\frac{1}{N} ∑_i ∑_t r(s_{i,t}, a_{i,t})$ </center>\n",
        "\n",
        "And our objective is:\n",
        "\n",
        "This will be important later, but let's just focus on the theoretical expected value for now. We want to take gradients of this objective function to reach for the highest possible value, thus we will take the gradient of the objective function with respect to θ and use gradient ascent. How can we do that?\n",
        "\n",
        "Going back to the definition of expectation, we can in fact summarize $J(\\theta)$ as an integral over all possible domains of the trajectory:\n",
        "\n",
        "#### <center>$J(\\theta) = 𝔼_{\\tau \\sim p_\\theta(\\tau)}[∑_t r(s_t, a_t)] = ∫_\\tau l_\\theta(\\tau)r(\\tau) d\\tau$ </center>\n",
        "\n",
        "Where $l_\\theta(·)$ is the probability density function of such trajectory occurring under policy θ. Now we can take the gradient of this expression and get:\n",
        "\n",
        "#### <center>$\\nabla_\\theta J(\\theta) = ∫_\\tau (\\nabla_\\theta l_\\theta(\\tau))r(\\tau) d\\tau$ </center>\n",
        "\n",
        "Here, we are confronted with a tricky question: how can we derive $\\nabla_\\theta l_\\theta(\\tau)$? As far as we know, the calculation for the gradient of the objective function is intractable.\n",
        "\n",
        "This is when we will reach for one of the convenient identities, where we can see that:\n",
        "\n",
        "#### <center> $l_\\theta(\\tau)\\nabla_\\theta \\log l_\\theta(\\tau)=l_\\theta(\\tau) \\frac{\\nabla_\\theta l_\\theta(\\tau)}{l_\\theta(\\tau)} = \\nabla_\\theta l_\\theta(\\tau)$ </center>\n",
        "\n",
        "Therefore, instead of calculating a"
      ]
    },
    {
      "cell_type": "code",
      "execution_count": null,
      "metadata": {
        "id": "EuQ2QoBYmehQ"
      },
      "outputs": [],
      "source": [
        "# NOTE:\n",
        "\n",
        "# Make sure you change the runtime to GPU, as policy gradients on CPU is very slow.\n",
        "\n",
        "for i in range(iters):\n",
        "\n",
        "  model.train()\n",
        "  model.reset()\n",
        "  rewards = []\n",
        "  reward, steps = 0, 0\n",
        "  currState = env.reset()\n",
        "  currState = torch.from_numpy(currState).float()\n",
        "  for j in range(horizon):\n",
        "    # START Q1\n",
        "    probability = ... # TODO\n",
        "    distribution = ... # TODO, HINT: look up torch.distribution and find out the distribution that would be used for sampling categorical values\n",
        "    action = ... # TODO\n",
        "    model.logProb.append(...) # TODO: append the log probability\n",
        "\n",
        "\n",
        "    action = int(action.item())\n",
        "    # START Q2\n",
        "    nextState, thisReward, done, _ = ... # TODO (How do we advance a step in the environment?)\n",
        "    rewards.append(thisReward)\n",
        "    currState = nextState\n",
        "    if terminated or truncated:\n",
        "      # If the agent screws up, terminate the process.\n",
        "      break\n",
        "\n",
        "  totReward = 0\n",
        "  weightedReward = []\n",
        "  for r in reversed(rewards):\n",
        "    totReward = r + gamma * totReward\n",
        "    weightedReward.insert(0, totReward)\n",
        "  if not i % 5: # 5 here is used for iteration of evaluation\n",
        "    totRewards.append(totReward)\n",
        "    print(f\"The reward collected at iteration {i} is {totReward}\")\n",
        "  optimizer.zero_grad()\n",
        "\n",
        "  weightedReward = ... #TODO\n",
        "  weightedReward = ... #TODO\n",
        "  loss = ... #TOOD\n",
        "  for logprob, reward in zip(model.logProb, weightedReward):\n",
        "    loss -= ... #TODO\n",
        "\n",
        "  loss.backward()\n",
        "  optimizer.step()\n",
        "  model.reset()"
      ]
    },
    {
      "cell_type": "markdown",
      "source": [
        "# SOLUTIONS:"
      ],
      "metadata": {
        "id": "RF7I-4TyrH0E"
      }
    },
    {
      "cell_type": "code",
      "source": [
        "for i in range(iters):\n",
        "\n",
        "  model.train()\n",
        "  model.reset()\n",
        "  rewards = []\n",
        "  reward, steps = 0, 0\n",
        "  currState = env.reset()\n",
        "  currState = torch.from_numpy(currState).float()\n",
        "  for j in range(horizon):\n",
        "    # START Q1\n",
        "    \"\"\"\n",
        "    probability = ... # TODO\n",
        "    distribution = ... # TODO, HINT: look up torch.distribution and find out the distribution that would be used for sampling categorical values\n",
        "    action = ... # TODO\n",
        "    model.logProb.append(...) # TODO: append the log probability\n",
        "    \"\"\"\n",
        "    ############\n",
        "    # SOLUTION #\n",
        "    ############\n",
        "    probability = model(torch.tensor(currState).to(device))\n",
        "    distribution = dist.categorical.Categorical(probability)\n",
        "    action = distribution.sample()\n",
        "    model.logProb.append(distribution.log_prob(action))\n",
        "    ################\n",
        "    # END SOLUTION #\n",
        "    ################\n",
        "    action = int(action.item())\n",
        "    # START Q2\n",
        "    \"\"\"\n",
        "    nextState, thisReward, done, _ = ... # TODO (How do we advance a step in the environment?)\n",
        "    \"\"\"\n",
        "    ############\n",
        "    # SOLUTION #\n",
        "    ############\n",
        "    nextState, thisReward, terminated, truncated, _ = env.step(action)\n",
        "    ################\n",
        "    # END SOLUTION #\n",
        "    ################\n",
        "    rewards.append(thisReward)\n",
        "    currState = nextState\n",
        "    if terminated or truncated:\n",
        "      # If the agent screws up, terminate the process.\n",
        "      break\n",
        "\n",
        "  totReward = 0\n",
        "  weightedReward = []\n",
        "  for r in reversed(rewards):\n",
        "    totReward = r + gamma * totReward\n",
        "    weightedReward.insert(0, totReward)\n",
        "  if not i % 5: # 5 here is used for iteration of evaluation\n",
        "    totRewards.append(totReward)\n",
        "    print(f\"The reward collected at iteration {i} is {totReward}\")\n",
        "  optimizer.zero_grad()\n",
        "\n",
        "  # Start Q3\n",
        "  # How do we normalize weightedReward (subtracting a baseline)?\n",
        "  # Now, for\n",
        "  \"\"\"\n",
        "  weightedReward = ...\n",
        "  weightedReward = ...\n",
        "  loss = ...\n",
        "  for logprob, reward in zip(model.logProb, weightedReward):\n",
        "    loss -= ...\n",
        "  \"\"\"\n",
        "  ############\n",
        "  # SOLUTION #\n",
        "  ############\n",
        "  weightedReward = torch.tensor(weightedReward)\n",
        "  weightedReward = (weightedReward - weightedReward.mean())/weightedReward.std()\n",
        "  loss = 0\n",
        "  for logprob, reward in zip(model.logProb, weightedReward):\n",
        "    loss -= logprob * reward\n",
        "  ################\n",
        "  # END SOLUTION #\n",
        "  ################\n",
        "  loss.backward()\n",
        "  optimizer.step()\n",
        "  model.reset()"
      ],
      "metadata": {
        "id": "cKYXa8-beXEP"
      },
      "execution_count": null,
      "outputs": []
    },
    {
      "cell_type": "markdown",
      "source": [
        "# VISUALIZATIONS"
      ],
      "metadata": {
        "id": "1WjPwnIWrNQb"
      }
    },
    {
      "cell_type": "code",
      "source": [],
      "metadata": {
        "id": "YNGIzRmNJz6-"
      },
      "execution_count": null,
      "outputs": []
    },
    {
      "cell_type": "markdown",
      "metadata": {
        "id": "aCNZB5Bit3O6"
      },
      "source": [
        "Here you will plot your total reward function from each test run (time deprecation included)"
      ]
    },
    {
      "cell_type": "code",
      "execution_count": null,
      "metadata": {
        "colab": {
          "base_uri": "https://localhost:8080/",
          "height": 449
        },
        "id": "fykx1Ng3fWOv",
        "outputId": "09e3305a-cdbf-4266-a575-135d32f04eef"
      },
      "outputs": [
        {
          "output_type": "display_data",
          "data": {
            "text/plain": [
              "<Figure size 640x480 with 1 Axes>"
            ],
            "image/png": "[encoded data removed]"
          },
          "metadata": {}
        }
      ],
      "source": [
        "plt.plot(np.arange(len(totRewards)), totRewards)\n",
        "plt.xlabel(\"Total evaluation iterations\")\n",
        "plt.ylabel(\"Time-deprecated rewards\")\n",
        "plt.show()"
      ]
    }
  ],
  "metadata": {
    "accelerator": "GPU",
    "colab": {
      "provenance": [],
      "gpuType": "T4"
    },
    "kernelspec": {
      "display_name": "Python 3",
      "name": "python3"
    },
    "language_info": {
      "name": "python"
    }
  },
  "nbformat": 4,
  "nbformat_minor": 0
}